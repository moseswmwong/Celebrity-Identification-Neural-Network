{
 "cells": [
  {
   "cell_type": "markdown",
   "metadata": {},
   "source": [
    "# Celebrity Identification\n"
   ]
  },
  {
   "cell_type": "markdown",
   "metadata": {},
   "source": [
    "### 2018-12-20 Verison 4 \n",
    "*** Please see LICENSE for licensing information"
   ]
  },
  {
   "cell_type": "markdown",
   "metadata": {},
   "source": [
    "### Configurtation\n",
    "spath = 'localtest-celebrity'\n",
    "\n",
    "current_model = 'my_model-300epochs.h5'"
   ]
  },
  {
   "cell_type": "code",
   "execution_count": 1,
   "metadata": {},
   "outputs": [],
   "source": [
    "# preparation linux commands\n",
    "\n",
    "#!pip install keras\n",
    "#!unzip localtest-celebrity-f-m.zip\n",
    "\n",
    "#backup\n",
    "#!tar cvfz localtest-celebrity.tgz localtest-celebrity/*\n",
    "#!tar cvfz result.tgz result"
   ]
  },
  {
   "cell_type": "code",
   "execution_count": 2,
   "metadata": {},
   "outputs": [],
   "source": [
    "spath = 'localtest-celebrity'\n",
    "\n",
    "#current_model = 'my_model-100epochs.h5'\n",
    "current_model = 'my_model-300epochs.h5'"
   ]
  },
  {
   "cell_type": "code",
   "execution_count": 3,
   "metadata": {},
   "outputs": [
    {
     "name": "stderr",
     "output_type": "stream",
     "text": [
      "/usr/local/lib/python3.5/dist-packages/h5py/__init__.py:36: FutureWarning: Conversion of the second argument of issubdtype from `float` to `np.floating` is deprecated. In future, it will be treated as `np.float64 == np.dtype(float).type`.\n",
      "  from ._conv import register_converters as _register_converters\n",
      "Using TensorFlow backend.\n"
     ]
    }
   ],
   "source": [
    "import numpy as np\n",
    "from keras import layers\n",
    "from keras.layers import Input, Add, Dense, Activation, ZeroPadding2D, BatchNormalization, Flatten, Conv2D, AveragePooling2D, MaxPooling2D, GlobalMaxPooling2D\n",
    "from keras.models import Model, load_model\n",
    "from keras.preprocessing import image\n",
    "from keras.utils import layer_utils\n",
    "from keras.utils.data_utils import get_file\n",
    "from keras.applications.imagenet_utils import preprocess_input\n",
    "from IPython.display import SVG\n",
    "from keras.utils.vis_utils import model_to_dot\n",
    "from keras.utils import plot_model\n",
    "from keras.initializers import glorot_uniform\n",
    "import scipy.misc\n",
    "from matplotlib.pyplot import imshow\n",
    "%matplotlib inline\n",
    "from ci_utils import *\n",
    "\n",
    "import keras.backend as K\n",
    "K.set_image_data_format('channels_last')\n",
    "K.set_learning_phase(1)\n",
    "\n",
    "from scipy import ndimage\n",
    "import gc\n"
   ]
  },
  {
   "cell_type": "markdown",
   "metadata": {},
   "source": [
    "### Load Model\n",
    "The model is build on .."
   ]
  },
  {
   "cell_type": "code",
   "execution_count": 4,
   "metadata": {},
   "outputs": [],
   "source": [
    "model = load_model(current_model)"
   ]
  },
  {
   "cell_type": "markdown",
   "metadata": {},
   "source": [
    "### Run the inferrence code\n",
    "The inf.."
   ]
  },
  {
   "cell_type": "code",
   "execution_count": 5,
   "metadata": {
    "scrolled": false
   },
   "outputs": [
    {
     "name": "stdout",
     "output_type": "stream",
     "text": [
      "localtest-celebrity has files 33\n",
      "localtest-celebrity/1467626104339.jpg\n"
     ]
    },
    {
     "name": "stderr",
     "output_type": "stream",
     "text": [
      "/usr/local/lib/python3.5/dist-packages/ipykernel_launcher.py:35: DeprecationWarning: `imread` is deprecated!\n",
      "`imread` is deprecated in SciPy 1.0.0, and will be removed in 1.2.0.\n",
      "Use ``imageio.imread`` instead.\n"
     ]
    },
    {
     "name": "stdout",
     "output_type": "stream",
     "text": [
      "[p(0), p(1)] = %\n",
      "0, 100\n",
      " \n",
      "localtest-celebrity/12.jpg\n",
      "[p(0), p(1)] = %\n",
      "1, 98\n",
      " \n",
      "localtest-celebrity/0_MAIN-FILE-PHOTO-French-singer-Charles-Aznavour-attends-the-annual-dinner-of-CCAF-Co-ordination-Council.jpg\n",
      "[p(0), p(1)] = %\n",
      "0, 100\n",
      " \n",
      "localtest-celebrity/ariana_grande_photo_jon_kopaloff_getty_images_465687098.jpg\n",
      "[p(0), p(1)] = %\n",
      "98, 1\n",
      " \n",
      "localtest-celebrity/12_Practice_Mindfulness_Lake_And_Rocks_Can_Appear_More_Attractive_To_Women-e1530749953122.jpg\n",
      "[p(0), p(1)] = %\n",
      "0, 99\n",
      " \n",
      "localtest-celebrity/Top-10-Most-Beautiful-Japanese-Women.jpg\n",
      "[p(0), p(1)] = %\n",
      "99, 0\n",
      " \n",
      "localtest-celebrity/e61085b3083e02c2e207e42e415bcd0e.jpg\n",
      "[p(0), p(1)] = %\n",
      "0, 100\n",
      " \n",
      "localtest-celebrity/Emma-Stone.jpg\n",
      "[p(0), p(1)] = %\n",
      "0, 99\n",
      " \n",
      "localtest-celebrity/11.jpg\n",
      "[p(0), p(1)] = %\n",
      "0, 100\n",
      " \n",
      "localtest-celebrity/10.jpg\n",
      "[p(0), p(1)] = %\n",
      "0, 100\n",
      " \n",
      "localtest-celebrity/13.jpg\n",
      "[p(0), p(1)] = %\n",
      "99, 0\n",
      " \n",
      "localtest-celebrity/68747.jpg\n",
      "[p(0), p(1)] = %\n",
      "0, 99\n",
      " \n",
      "localtest-celebrity/portrait_de_femme.jpg\n",
      "[p(0), p(1)] = %\n",
      "0, 100\n",
      " \n",
      "localtest-celebrity/4_Look_Older_Grey_Hair_Can_Appear_More_Attractive_To_Women-e1530749858808.jpg\n",
      "[p(0), p(1)] = %\n",
      "0, 99\n",
      " \n",
      "localtest-celebrity/worlds-9-most-beautiful-hottest-celebrities-in-2017-2018-top-worlds-9-most-beautiful-hottest-celebrities-in-2017-2018-top.jpg\n",
      "[p(0), p(1)] = %\n",
      "0, 100\n",
      " \n",
      "localtest-celebrity/21.jpg\n",
      "[p(0), p(1)] = %\n",
      "94, 5\n",
      " \n",
      "localtest-celebrity/13_Play_Extreme_Sports_Mountain_Biking_Can_Appear_More_Attractive_To_Women-e1530749964767.jpg\n",
      "[p(0), p(1)] = %\n",
      "0, 100\n",
      " \n",
      "localtest-celebrity/10-celebrities-with-most-beautiful-eyes-in-the-world-georgianjournal-geotvge.jpg\n",
      "[p(0), p(1)] = %\n",
      "0, 100\n",
      " \n",
      "localtest-celebrity/top-10-most-popular-celebrities-on-social-media-for-2018-celebrity-top-10-most-popular-celebrities-on-social-media-for-2018-published-in-topteny-magazine-entertainment.jpg\n",
      "[p(0), p(1)] = %\n",
      "0, 100\n",
      " \n",
      "localtest-celebrity/Kristen-Stewart.jpg\n",
      "[p(0), p(1)] = %\n",
      "0, 100\n",
      " \n",
      "localtest-celebrity/alicia-Vikander.jpg\n",
      "[p(0), p(1)] = %\n",
      "0, 100\n",
      " \n",
      "localtest-celebrity/11_Play_Good_Music_Guitar_Can_Appear_More_Attractive_To_Women-e1530749941658.jpg\n",
      "[p(0), p(1)] = %\n",
      "29, 70\n",
      " \n",
      "localtest-celebrity/7_Be_Kind_Angelic_Face_Can_Appear_More_Attractive_To_Women-e1530749897463.jpg\n",
      "[p(0), p(1)] = %\n",
      "0, 99\n",
      " \n",
      "localtest-celebrity/16.jpg\n",
      "[p(0), p(1)] = %\n",
      "86, 13\n",
      " \n",
      "localtest-celebrity/Oprah-Winfrey-2.jpg\n",
      "[p(0), p(1)] = %\n",
      "0, 99\n",
      " \n",
      "localtest-celebrity/10_Walk_A_Dog_With_Collar_Can_Appear_More_Attractive_To_Women-e1530749929373.jpg\n",
      "[p(0), p(1)] = %\n",
      "0, 100\n",
      " \n",
      "localtest-celebrity/alicia1.jpg\n",
      "[p(0), p(1)] = %\n",
      "26, 73\n",
      " \n",
      "localtest-celebrity/14.jpg\n",
      "[p(0), p(1)] = %\n",
      "96, 3\n",
      " \n",
      "localtest-celebrity/7.jpg\n",
      "[p(0), p(1)] = %\n",
      "97, 2\n",
      " \n",
      "localtest-celebrity/9_Make_Your_Partne_-Laugh_Much_Laughter_Can_Appear_More_Attractive_To_Women-e1530749916560.jpg\n",
      "[p(0), p(1)] = %\n",
      "79, 20\n",
      " \n",
      "localtest-celebrity/25.jpg\n",
      "[p(0), p(1)] = %\n",
      "0, 100\n",
      " \n",
      "localtest-celebrity/Margot-Robbie.jpg\n",
      "[p(0), p(1)] = %\n",
      "54, 45\n",
      " \n",
      "localtest-celebrity/0_AlomoSelectTV.jpg\n",
      "[p(0), p(1)] = %\n",
      "0, 100\n",
      " \n"
     ]
    }
   ],
   "source": [
    "from keras.preprocessing import image\n",
    "from IPython.display import display\n",
    "from PIL import Image, ImageDraw, ImageFont\n",
    "\n",
    "#clean up all output folders and recreate them - linux\n",
    "os.system(\"rm -Rf result/0\")\n",
    "os.system(\"rm -Rf result/1\")\n",
    "os.system(\"rm -Rf result\")\n",
    "os.system(\"mkdir -p result/0\")\n",
    "os.system(\"mkdir -p result/1\")\n",
    "\n",
    "#clean up all output folders and recreate them - windows\n",
    "#os.system(\"del /s /q result\")\n",
    "#os.system(\"rmdir /s /q result\")\n",
    "#os.system(\"mkdir result\\\\0\")\n",
    "#os.system(\"mkdir result\\\\1\")\n",
    "\n",
    "j = 0\n",
    "total = 0\n",
    "s = spath\n",
    "n = dircount(s, \".jpg\")\n",
    "print(s + \" has files \" + str(n))\n",
    "\n",
    "spath = s + \"/\"\n",
    "k = 0\n",
    "for name in os.listdir(spath):\n",
    "    if name.endswith(\".jpg\"):\n",
    "        img_path = spath + name\n",
    "        print(img_path)\n",
    "\n",
    "        img = image.load_img(img_path, target_size=(64, 64))\n",
    "        x = image.img_to_array(img)\n",
    "        x = np.expand_dims(x, axis=0)\n",
    "        x /=255\n",
    "        my_image = scipy.misc.imread(img_path)\n",
    "        \n",
    "        img = Image.open(img_path)\n",
    "        \n",
    "        r = model.predict(x)\n",
    "        \n",
    "        #decide if a output should goes to which folder, this is either or situation, no multi-class\n",
    "        if r[0,1] < r[0,0]:\n",
    "            class_str = \"0\"\n",
    "        else:\n",
    "            class_str = \"1\"\n",
    "        result_path = \"result/\" + class_str + \"/\"\n",
    "\n",
    "        #reduce accuracy of r for easy display\n",
    "        r *= 100\n",
    "        u = np.uint32(r)\n",
    "        r = u\n",
    "        \n",
    "        outext = \"[p(0), p(1)] = %\\n\" + str(r[0,0]) + ', ' + str(r[0,1])\n",
    "        \n",
    "        img.save(result_path + name)\n",
    "        \n",
    "        print(outext)        \n",
    "\n",
    "        k += 1\n",
    "        \n",
    "        print(' ')\n",
    "        \n",
    "\n"
   ]
  },
  {
   "cell_type": "code",
   "execution_count": null,
   "metadata": {},
   "outputs": [],
   "source": []
  },
  {
   "cell_type": "code",
   "execution_count": null,
   "metadata": {},
   "outputs": [],
   "source": []
  },
  {
   "cell_type": "code",
   "execution_count": null,
   "metadata": {},
   "outputs": [],
   "source": []
  }
 ],
 "metadata": {
  "kernelspec": {
   "display_name": "Python 3",
   "language": "python",
   "name": "python3"
  },
  "language_info": {
   "codemirror_mode": {
    "name": "ipython",
    "version": 3
   },
   "file_extension": ".py",
   "mimetype": "text/x-python",
   "name": "python",
   "nbconvert_exporter": "python",
   "pygments_lexer": "ipython3",
   "version": "3.5.2"
  }
 },
 "nbformat": 4,
 "nbformat_minor": 2
}
